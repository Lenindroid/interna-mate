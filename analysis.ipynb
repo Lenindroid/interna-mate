{
 "cells": [
  {
   "cell_type": "code",
   "execution_count": 2,
   "metadata": {},
   "outputs": [
    {
     "name": "stdout",
     "output_type": "stream",
     "text": [
      "{'José Andrés Guardado Hernández': 0, 'Jesús Daniel Gallardo Vasconcelos': 1, 'Héctor Alfredo Moreno Herrera': 2, 'Héctor Miguel Herrera López': 3, 'Néstor Alejandro Araújo Razo': 4, 'Kevin Nahin Álvarez Campos': 5, 'Ernesto Alexis Vega Rojas': 6, 'Luis Gerardo Chávez Magallón': 7, 'Francisco Guillermo Ochoa Magaña': 8, 'César Jasib Montes Castro': 9, 'Hirving Rodrigo Lozano Bahena': 10, 'Érick Gabriel Gutiérrez Galaviz': 11, 'Raúl Alonso Jiménez Rodríguez': 12, 'Carlos Uriel Antuna Romero': 13, 'Roberto Carlos Alvarado Hernández': 14}\n"
     ]
    }
   ],
   "source": [
    "from statsbombpy import sb #Manage stats bomb data\n",
    "import pandas as pd #Work with any type of data\n",
    "from mplsoccer import Pitch,Sbopen #Visualize soccer data\n",
    "import matplotlib.pyplot as plt #Math graphs and stuff like that. Not sure if needed\n",
    "import numpy as np #Work with matrices and number precisly\n",
    "import networkx as nx\n",
    "\n",
    "MexVSArgID= 3857289\n",
    "MexVsArabID = 3857260\n",
    "worldCupID = 43\n",
    "seasonID = 106\n",
    "\n",
    "parser = Sbopen()\n",
    "df,related,freezer,tactics = parser.event(MexVSArgID) #Get info about the match (temach xdddd)\n",
    "\n",
    "df = df[df['team_name']=='Mexico'] #Data from Mexico only\n",
    "passes = df[df['type_name']=='Pass'] #Passes from Mexico\n",
    "filteredPasses = passes[['player_name','x','y','end_x', 'end_y','pass_recipient_name','outcome_id','outcome_name']] #Data I need from the passes\n",
    "successfullPasses = filteredPasses[filteredPasses['outcome_name'].isnull()] #Only successful passes\n",
    "\n",
    "#Herramienta sorpresa que nos ayudará más tarde\n",
    "playersName = successfullPasses['player_name'].unique().tolist() \n",
    "playersID = {}\n",
    "\n",
    "for index  in range(len(playersName)):\n",
    "    playersID[playersName[index]] = index\n",
    "\n",
    "successfullPasses = successfullPasses.reset_index(drop=True) #New 0 to n id\n",
    "# for debugging print(successfullPasses.shape)\n",
    "\n",
    "print(playersID)"
   ]
  },
  {
   "cell_type": "markdown",
   "metadata": {},
   "source": []
  },
  {
   "cell_type": "code",
   "execution_count": 3,
   "metadata": {},
   "outputs": [],
   "source": [
    "#Prepares the adjc matrix\n",
    "adjcMatrix = []\n",
    "playersMexico = 15\n",
    "\n",
    "for _ in range(playersMexico): #You use _ when you don't care about the index value\n",
    "    adjcMatrix.append([])\n",
    "\n",
    "for i in range(playersMexico): #i goes from 0 to 14 (playersMexico - 1)\n",
    "    for _ in range(playersMexico):\n",
    "        adjcMatrix[i].append(0)\n",
    "\n",
    "#Iterates over each row in successfulPasses\n",
    "for index, row in successfullPasses.iterrows():\n",
    "    passer = row['player_name']  \n",
    "    receiver = row['pass_recipient_name']\n",
    "    adjcMatrix[playersID[passer]][playersID[receiver]] += 1\n",
    "    start_pos = (row['x'], row['y'])  \n",
    "    end_pos = (row['end_x'], row['end_y'])\n",
    "    #print(f\"Pase de {index} {passer} a {receiver} desde {start_pos} hasta {end_pos} xd\")"
   ]
  },
  {
   "cell_type": "code",
   "execution_count": 4,
   "metadata": {},
   "outputs": [
    {
     "name": "stdout",
     "output_type": "stream",
     "text": [
      "[0, 2, 4, 1, 0, 1, 0, 1, 0, 1, 1, 0, 0, 0, 0]\n",
      "[3, 0, 6, 1, 0, 0, 3, 1, 1, 2, 0, 1, 0, 0, 1]\n",
      "[2, 6, 0, 3, 0, 1, 0, 0, 5, 7, 2, 8, 2, 0, 2]\n",
      "[2, 1, 1, 0, 10, 1, 0, 6, 2, 7, 1, 3, 1, 2, 0]\n",
      "[0, 0, 1, 5, 0, 6, 1, 5, 1, 19, 2, 0, 5, 2, 0]\n",
      "[0, 0, 0, 0, 6, 0, 2, 5, 0, 0, 2, 0, 0, 0, 0]\n",
      "[0, 1, 0, 0, 0, 0, 0, 0, 0, 0, 2, 0, 0, 0, 0]\n",
      "[1, 0, 1, 2, 9, 3, 0, 0, 0, 1, 1, 1, 0, 0, 2]\n",
      "[2, 1, 6, 1, 0, 0, 0, 2, 0, 8, 0, 0, 0, 0, 0]\n",
      "[0, 1, 11, 6, 11, 0, 0, 0, 8, 0, 0, 8, 1, 2, 1]\n",
      "[0, 0, 0, 0, 0, 1, 0, 0, 0, 0, 0, 2, 0, 0, 0]\n",
      "[0, 3, 5, 6, 1, 0, 0, 0, 0, 4, 1, 0, 0, 0, 5]\n",
      "[0, 1, 0, 2, 0, 0, 0, 2, 0, 0, 1, 0, 0, 2, 0]\n",
      "[0, 0, 0, 0, 1, 0, 0, 1, 0, 0, 0, 0, 1, 0, 0]\n",
      "[0, 1, 1, 0, 0, 0, 0, 1, 0, 0, 0, 2, 0, 0, 0]\n",
      "304\n"
     ]
    }
   ],
   "source": [
    "for player in adjcMatrix:\n",
    "    print(player)\n",
    "\n",
    "sum = 0\n",
    "for passer in adjcMatrix:\n",
    "    for passed in passer:\n",
    "        sum += passed\n",
    "print(sum)\n",
    "#Btw, Héctor Herrera is in index 3. You confused him with Héctor Moreno"
   ]
  },
  {
   "cell_type": "code",
   "execution_count": 5,
   "metadata": {},
   "outputs": [
    {
     "name": "stdout",
     "output_type": "stream",
     "text": [
      "José Andrés Guardado Hernández: 0.0323-0.0000j\n",
      "Jesús Daniel Gallardo Vasconcelos: 0.0494-0.0000j\n",
      "Héctor Alfredo Moreno Herrera: 0.1060-0.0000j\n",
      "Héctor Miguel Herrera López: 0.1360-0.0000j\n",
      "Néstor Alejandro Araújo Razo: 0.1662-0.0000j\n",
      "Kevin Nahin Álvarez Campos: 0.0470-0.0000j\n",
      "Ernesto Alexis Vega Rojas: 0.0021-0.0000j\n",
      "Luis Gerardo Chávez Magallón: 0.0781-0.0000j\n",
      "Francisco Guillermo Ochoa Magaña: 0.0815-0.0000j\n",
      "César Jasib Montes Castro: 0.1742-0.0000j\n",
      "Hirving Rodrigo Lozano Bahena: 0.0070-0.0000j\n",
      "Érick Gabriel Gutiérrez Galaviz: 0.0813-0.0000j\n",
      "Raúl Alonso Jiménez Rodríguez: 0.0168-0.0000j\n",
      "Carlos Uriel Antuna Romero: 0.0087-0.0000j\n",
      "Roberto Carlos Alvarado Hernández: 0.0133-0.0000j\n"
     ]
    }
   ],
   "source": [
    "# Cell 4\n",
    "# Convierte la matriz de adyacencia a una matriz numpy\n",
    "adj_matrix_np = np.array(adjcMatrix)\n",
    "\n",
    "# Calcula el vector propio y el valor propio de la matriz de adyacencia\n",
    "eigenvalues, eigenvectors = np.linalg.eig(adj_matrix_np)\n",
    "\n",
    "# Obtiene el índice del mayor valor propio\n",
    "max_eigenvalue_index = np.argmax(eigenvalues)\n",
    "\n",
    "# Obtiene el vector propio correspondiente al mayor valor propio\n",
    "principal_eigenvector = eigenvectors[:, max_eigenvalue_index]\n",
    "\n",
    "# Normaliza el vector propio\n",
    "centrality = principal_eigenvector / np.sum(principal_eigenvector)\n",
    "\n",
    "# Imprime la centralidad para cada jugador\n",
    "for player, centrality_value in zip(playersID.keys(), centrality):\n",
    "    print(f\"{player}: {centrality_value:.4f}\")"
   ]
  }
 ],
 "metadata": {
  "kernelspec": {
   "display_name": "Python 3",
   "language": "python",
   "name": "python3"
  },
  "language_info": {
   "codemirror_mode": {
    "name": "ipython",
    "version": 3
   },
   "file_extension": ".py",
   "mimetype": "text/x-python",
   "name": "python",
   "nbconvert_exporter": "python",
   "pygments_lexer": "ipython3",
   "version": "3.12.3"
  }
 },
 "nbformat": 4,
 "nbformat_minor": 2
}
